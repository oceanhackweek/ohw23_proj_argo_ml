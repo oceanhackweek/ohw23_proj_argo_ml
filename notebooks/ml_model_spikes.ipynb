{
 "cells": [
  {
   "cell_type": "code",
   "execution_count": 2,
   "id": "de527e38",
   "metadata": {
    "tags": []
   },
   "outputs": [],
   "source": [
    "import pandas as pd\n",
    "import numpy as np\n",
    "from sklearn import preprocessing\n",
    "from sklearn import mixture\n",
    "from sklearn import preprocessing\n",
    "from sklearn.decomposition import PCA\n",
    "from matplotlib.pyplot import cm\n",
    "import matplotlib.pyplot as plt\n",
    "import matplotlib as mpl\n",
    "import seaborn as sns\n",
    "from scipy.spatial import ConvexHull, convex_hull_plot_2d\n",
    "from sklearn.model_selection import GridSearchCV\n",
    "from shapely.ops import cascaded_union, polygonize\n",
    "import math\n",
    "import shapely.geometry as geometry\n",
    "from scipy.spatial import Delaunay"
   ]
  },
  {
   "cell_type": "markdown",
   "id": "e4b5a24a",
   "metadata": {},
   "source": [
    "# Open csv data"
   ]
  },
  {
   "cell_type": "code",
   "execution_count": 3,
   "id": "167421c2",
   "metadata": {
    "tags": []
   },
   "outputs": [],
   "source": [
    "df = pd.read_csv('argo_noise.csv')"
   ]
  },
  {
   "cell_type": "code",
   "execution_count": 4,
   "id": "4d01d588",
   "metadata": {
    "tags": []
   },
   "outputs": [
    {
     "data": {
      "text/html": [
       "<div>\n",
       "<style scoped>\n",
       "    .dataframe tbody tr th:only-of-type {\n",
       "        vertical-align: middle;\n",
       "    }\n",
       "\n",
       "    .dataframe tbody tr th {\n",
       "        vertical-align: top;\n",
       "    }\n",
       "\n",
       "    .dataframe thead th {\n",
       "        text-align: right;\n",
       "    }\n",
       "</style>\n",
       "<table border=\"1\" class=\"dataframe\">\n",
       "  <thead>\n",
       "    <tr style=\"text-align: right;\">\n",
       "      <th></th>\n",
       "      <th>10.0</th>\n",
       "      <th>11.0</th>\n",
       "      <th>12.0</th>\n",
       "      <th>13.0</th>\n",
       "      <th>14.0</th>\n",
       "      <th>15.0</th>\n",
       "      <th>16.0</th>\n",
       "      <th>17.0</th>\n",
       "      <th>18.0</th>\n",
       "      <th>19.0</th>\n",
       "      <th>...</th>\n",
       "      <th>92.0</th>\n",
       "      <th>93.0</th>\n",
       "      <th>94.0</th>\n",
       "      <th>95.0</th>\n",
       "      <th>96.0</th>\n",
       "      <th>97.0</th>\n",
       "      <th>98.0</th>\n",
       "      <th>99.0</th>\n",
       "      <th>100.0</th>\n",
       "      <th>101.0</th>\n",
       "    </tr>\n",
       "  </thead>\n",
       "  <tbody>\n",
       "    <tr>\n",
       "      <th>0</th>\n",
       "      <td>28.271656</td>\n",
       "      <td>26.475980</td>\n",
       "      <td>24.774204</td>\n",
       "      <td>28.890116</td>\n",
       "      <td>26.933702</td>\n",
       "      <td>27.588029</td>\n",
       "      <td>26.815596</td>\n",
       "      <td>25.174956</td>\n",
       "      <td>28.368548</td>\n",
       "      <td>24.993509</td>\n",
       "      <td>...</td>\n",
       "      <td>18.778396</td>\n",
       "      <td>19.471599</td>\n",
       "      <td>20.817124</td>\n",
       "      <td>23.745616</td>\n",
       "      <td>18.633782</td>\n",
       "      <td>23.172912</td>\n",
       "      <td>21.028164</td>\n",
       "      <td>21.688388</td>\n",
       "      <td>22.341419</td>\n",
       "      <td>22.377907</td>\n",
       "    </tr>\n",
       "    <tr>\n",
       "      <th>1</th>\n",
       "      <td>24.630653</td>\n",
       "      <td>22.206214</td>\n",
       "      <td>27.145454</td>\n",
       "      <td>23.069812</td>\n",
       "      <td>28.100137</td>\n",
       "      <td>22.735192</td>\n",
       "      <td>23.333704</td>\n",
       "      <td>23.605529</td>\n",
       "      <td>24.309554</td>\n",
       "      <td>20.211763</td>\n",
       "      <td>...</td>\n",
       "      <td>26.161605</td>\n",
       "      <td>21.850249</td>\n",
       "      <td>23.355129</td>\n",
       "      <td>23.732845</td>\n",
       "      <td>24.325297</td>\n",
       "      <td>21.061650</td>\n",
       "      <td>24.801436</td>\n",
       "      <td>19.635627</td>\n",
       "      <td>22.739268</td>\n",
       "      <td>22.688188</td>\n",
       "    </tr>\n",
       "    <tr>\n",
       "      <th>2</th>\n",
       "      <td>26.645738</td>\n",
       "      <td>27.559360</td>\n",
       "      <td>25.427561</td>\n",
       "      <td>29.353835</td>\n",
       "      <td>28.281940</td>\n",
       "      <td>25.294827</td>\n",
       "      <td>27.594989</td>\n",
       "      <td>27.013135</td>\n",
       "      <td>24.573419</td>\n",
       "      <td>27.425873</td>\n",
       "      <td>...</td>\n",
       "      <td>25.641102</td>\n",
       "      <td>22.296257</td>\n",
       "      <td>22.875693</td>\n",
       "      <td>26.743430</td>\n",
       "      <td>26.034464</td>\n",
       "      <td>25.583470</td>\n",
       "      <td>25.612185</td>\n",
       "      <td>22.156584</td>\n",
       "      <td>23.430322</td>\n",
       "      <td>24.186024</td>\n",
       "    </tr>\n",
       "    <tr>\n",
       "      <th>3</th>\n",
       "      <td>20.081958</td>\n",
       "      <td>21.818964</td>\n",
       "      <td>24.648526</td>\n",
       "      <td>21.538740</td>\n",
       "      <td>20.932183</td>\n",
       "      <td>18.102642</td>\n",
       "      <td>19.563537</td>\n",
       "      <td>21.432089</td>\n",
       "      <td>18.892251</td>\n",
       "      <td>23.547599</td>\n",
       "      <td>...</td>\n",
       "      <td>22.088190</td>\n",
       "      <td>18.356420</td>\n",
       "      <td>20.740268</td>\n",
       "      <td>17.491619</td>\n",
       "      <td>16.699943</td>\n",
       "      <td>22.110393</td>\n",
       "      <td>16.904356</td>\n",
       "      <td>19.865791</td>\n",
       "      <td>20.471737</td>\n",
       "      <td>18.128048</td>\n",
       "    </tr>\n",
       "    <tr>\n",
       "      <th>4</th>\n",
       "      <td>27.393744</td>\n",
       "      <td>27.746599</td>\n",
       "      <td>25.702441</td>\n",
       "      <td>24.969792</td>\n",
       "      <td>27.884811</td>\n",
       "      <td>28.763701</td>\n",
       "      <td>23.809709</td>\n",
       "      <td>24.494690</td>\n",
       "      <td>26.192096</td>\n",
       "      <td>27.646421</td>\n",
       "      <td>...</td>\n",
       "      <td>22.740234</td>\n",
       "      <td>25.219407</td>\n",
       "      <td>24.200999</td>\n",
       "      <td>24.550022</td>\n",
       "      <td>24.278778</td>\n",
       "      <td>23.704876</td>\n",
       "      <td>21.734315</td>\n",
       "      <td>25.868222</td>\n",
       "      <td>25.059922</td>\n",
       "      <td>23.422749</td>\n",
       "    </tr>\n",
       "    <tr>\n",
       "      <th>...</th>\n",
       "      <td>...</td>\n",
       "      <td>...</td>\n",
       "      <td>...</td>\n",
       "      <td>...</td>\n",
       "      <td>...</td>\n",
       "      <td>...</td>\n",
       "      <td>...</td>\n",
       "      <td>...</td>\n",
       "      <td>...</td>\n",
       "      <td>...</td>\n",
       "      <td>...</td>\n",
       "      <td>...</td>\n",
       "      <td>...</td>\n",
       "      <td>...</td>\n",
       "      <td>...</td>\n",
       "      <td>...</td>\n",
       "      <td>...</td>\n",
       "      <td>...</td>\n",
       "      <td>...</td>\n",
       "      <td>...</td>\n",
       "      <td>...</td>\n",
       "    </tr>\n",
       "    <tr>\n",
       "      <th>7125</th>\n",
       "      <td>10.667541</td>\n",
       "      <td>7.999964</td>\n",
       "      <td>7.859529</td>\n",
       "      <td>11.927433</td>\n",
       "      <td>7.665661</td>\n",
       "      <td>8.309333</td>\n",
       "      <td>13.797982</td>\n",
       "      <td>9.434087</td>\n",
       "      <td>8.442610</td>\n",
       "      <td>15.706676</td>\n",
       "      <td>...</td>\n",
       "      <td>12.118345</td>\n",
       "      <td>7.226565</td>\n",
       "      <td>10.273212</td>\n",
       "      <td>8.745048</td>\n",
       "      <td>8.220488</td>\n",
       "      <td>9.265417</td>\n",
       "      <td>10.711252</td>\n",
       "      <td>9.631361</td>\n",
       "      <td>9.642308</td>\n",
       "      <td>9.174150</td>\n",
       "    </tr>\n",
       "    <tr>\n",
       "      <th>7126</th>\n",
       "      <td>11.328040</td>\n",
       "      <td>12.801410</td>\n",
       "      <td>12.655432</td>\n",
       "      <td>4.929943</td>\n",
       "      <td>8.035285</td>\n",
       "      <td>12.555923</td>\n",
       "      <td>9.250522</td>\n",
       "      <td>10.777103</td>\n",
       "      <td>9.861570</td>\n",
       "      <td>9.543888</td>\n",
       "      <td>...</td>\n",
       "      <td>11.833507</td>\n",
       "      <td>6.932466</td>\n",
       "      <td>9.622373</td>\n",
       "      <td>11.617892</td>\n",
       "      <td>11.706171</td>\n",
       "      <td>12.518695</td>\n",
       "      <td>8.694928</td>\n",
       "      <td>6.724504</td>\n",
       "      <td>10.438752</td>\n",
       "      <td>9.489188</td>\n",
       "    </tr>\n",
       "    <tr>\n",
       "      <th>7127</th>\n",
       "      <td>8.072770</td>\n",
       "      <td>9.118884</td>\n",
       "      <td>8.883305</td>\n",
       "      <td>10.120174</td>\n",
       "      <td>9.593995</td>\n",
       "      <td>8.238091</td>\n",
       "      <td>10.110977</td>\n",
       "      <td>10.380536</td>\n",
       "      <td>10.232491</td>\n",
       "      <td>13.601296</td>\n",
       "      <td>...</td>\n",
       "      <td>11.675589</td>\n",
       "      <td>9.097667</td>\n",
       "      <td>13.014943</td>\n",
       "      <td>8.024189</td>\n",
       "      <td>6.282848</td>\n",
       "      <td>7.814262</td>\n",
       "      <td>8.531503</td>\n",
       "      <td>5.226962</td>\n",
       "      <td>11.427456</td>\n",
       "      <td>8.750951</td>\n",
       "    </tr>\n",
       "    <tr>\n",
       "      <th>7128</th>\n",
       "      <td>5.380665</td>\n",
       "      <td>7.779945</td>\n",
       "      <td>8.846936</td>\n",
       "      <td>6.081216</td>\n",
       "      <td>10.357850</td>\n",
       "      <td>11.109682</td>\n",
       "      <td>5.297861</td>\n",
       "      <td>11.458248</td>\n",
       "      <td>10.758820</td>\n",
       "      <td>9.581308</td>\n",
       "      <td>...</td>\n",
       "      <td>9.380196</td>\n",
       "      <td>11.077471</td>\n",
       "      <td>9.832296</td>\n",
       "      <td>7.445221</td>\n",
       "      <td>4.643903</td>\n",
       "      <td>8.592179</td>\n",
       "      <td>8.512248</td>\n",
       "      <td>6.039928</td>\n",
       "      <td>7.904116</td>\n",
       "      <td>10.168116</td>\n",
       "    </tr>\n",
       "    <tr>\n",
       "      <th>7129</th>\n",
       "      <td>8.223730</td>\n",
       "      <td>10.959272</td>\n",
       "      <td>8.101406</td>\n",
       "      <td>10.702434</td>\n",
       "      <td>7.962208</td>\n",
       "      <td>10.904785</td>\n",
       "      <td>12.553845</td>\n",
       "      <td>7.722254</td>\n",
       "      <td>6.590089</td>\n",
       "      <td>7.167747</td>\n",
       "      <td>...</td>\n",
       "      <td>9.303194</td>\n",
       "      <td>12.503406</td>\n",
       "      <td>8.087656</td>\n",
       "      <td>10.532574</td>\n",
       "      <td>9.166042</td>\n",
       "      <td>8.736684</td>\n",
       "      <td>6.966151</td>\n",
       "      <td>13.935768</td>\n",
       "      <td>7.876786</td>\n",
       "      <td>8.632219</td>\n",
       "    </tr>\n",
       "  </tbody>\n",
       "</table>\n",
       "<p>7130 rows × 92 columns</p>\n",
       "</div>"
      ],
      "text/plain": [
       "           10.0       11.0       12.0       13.0       14.0       15.0  \\\n",
       "0     28.271656  26.475980  24.774204  28.890116  26.933702  27.588029   \n",
       "1     24.630653  22.206214  27.145454  23.069812  28.100137  22.735192   \n",
       "2     26.645738  27.559360  25.427561  29.353835  28.281940  25.294827   \n",
       "3     20.081958  21.818964  24.648526  21.538740  20.932183  18.102642   \n",
       "4     27.393744  27.746599  25.702441  24.969792  27.884811  28.763701   \n",
       "...         ...        ...        ...        ...        ...        ...   \n",
       "7125  10.667541   7.999964   7.859529  11.927433   7.665661   8.309333   \n",
       "7126  11.328040  12.801410  12.655432   4.929943   8.035285  12.555923   \n",
       "7127   8.072770   9.118884   8.883305  10.120174   9.593995   8.238091   \n",
       "7128   5.380665   7.779945   8.846936   6.081216  10.357850  11.109682   \n",
       "7129   8.223730  10.959272   8.101406  10.702434   7.962208  10.904785   \n",
       "\n",
       "           16.0       17.0       18.0       19.0  ...       92.0       93.0  \\\n",
       "0     26.815596  25.174956  28.368548  24.993509  ...  18.778396  19.471599   \n",
       "1     23.333704  23.605529  24.309554  20.211763  ...  26.161605  21.850249   \n",
       "2     27.594989  27.013135  24.573419  27.425873  ...  25.641102  22.296257   \n",
       "3     19.563537  21.432089  18.892251  23.547599  ...  22.088190  18.356420   \n",
       "4     23.809709  24.494690  26.192096  27.646421  ...  22.740234  25.219407   \n",
       "...         ...        ...        ...        ...  ...        ...        ...   \n",
       "7125  13.797982   9.434087   8.442610  15.706676  ...  12.118345   7.226565   \n",
       "7126   9.250522  10.777103   9.861570   9.543888  ...  11.833507   6.932466   \n",
       "7127  10.110977  10.380536  10.232491  13.601296  ...  11.675589   9.097667   \n",
       "7128   5.297861  11.458248  10.758820   9.581308  ...   9.380196  11.077471   \n",
       "7129  12.553845   7.722254   6.590089   7.167747  ...   9.303194  12.503406   \n",
       "\n",
       "           94.0       95.0       96.0       97.0       98.0       99.0  \\\n",
       "0     20.817124  23.745616  18.633782  23.172912  21.028164  21.688388   \n",
       "1     23.355129  23.732845  24.325297  21.061650  24.801436  19.635627   \n",
       "2     22.875693  26.743430  26.034464  25.583470  25.612185  22.156584   \n",
       "3     20.740268  17.491619  16.699943  22.110393  16.904356  19.865791   \n",
       "4     24.200999  24.550022  24.278778  23.704876  21.734315  25.868222   \n",
       "...         ...        ...        ...        ...        ...        ...   \n",
       "7125  10.273212   8.745048   8.220488   9.265417  10.711252   9.631361   \n",
       "7126   9.622373  11.617892  11.706171  12.518695   8.694928   6.724504   \n",
       "7127  13.014943   8.024189   6.282848   7.814262   8.531503   5.226962   \n",
       "7128   9.832296   7.445221   4.643903   8.592179   8.512248   6.039928   \n",
       "7129   8.087656  10.532574   9.166042   8.736684   6.966151  13.935768   \n",
       "\n",
       "          100.0      101.0  \n",
       "0     22.341419  22.377907  \n",
       "1     22.739268  22.688188  \n",
       "2     23.430322  24.186024  \n",
       "3     20.471737  18.128048  \n",
       "4     25.059922  23.422749  \n",
       "...         ...        ...  \n",
       "7125   9.642308   9.174150  \n",
       "7126  10.438752   9.489188  \n",
       "7127  11.427456   8.750951  \n",
       "7128   7.904116  10.168116  \n",
       "7129   7.876786   8.632219  \n",
       "\n",
       "[7130 rows x 92 columns]"
      ]
     },
     "execution_count": 4,
     "metadata": {},
     "output_type": "execute_result"
    }
   ],
   "source": [
    "df"
   ]
  },
  {
   "cell_type": "markdown",
   "id": "a93e1b4f",
   "metadata": {},
   "source": [
    "# Define data for the model"
   ]
  },
  {
   "cell_type": "code",
   "execution_count": null,
   "id": "cfa0c163",
   "metadata": {
    "tags": []
   },
   "outputs": [],
   "source": [
    "pres = df.columns[2:].values"
   ]
  },
  {
   "cell_type": "code",
   "execution_count": null,
   "id": "08d3005e",
   "metadata": {
    "tags": []
   },
   "outputs": [],
   "source": [
    "lon = df.iloc[:,0].values\n",
    "lat = df.iloc[:,1].values"
   ]
  },
  {
   "cell_type": "code",
   "execution_count": null,
   "id": "cf2e1a8d",
   "metadata": {
    "tags": []
   },
   "outputs": [],
   "source": [
    "X = df.iloc[:,2:].values"
   ]
  },
  {
   "cell_type": "code",
   "execution_count": null,
   "id": "16a457a4",
   "metadata": {
    "tags": []
   },
   "outputs": [],
   "source": [
    "X.shape"
   ]
  },
  {
   "cell_type": "markdown",
   "id": "b7e431ac",
   "metadata": {},
   "source": [
    "# Scale data"
   ]
  },
  {
   "cell_type": "code",
   "execution_count": null,
   "id": "4bc0017a",
   "metadata": {
    "tags": []
   },
   "outputs": [],
   "source": [
    "Xscaled = preprocessing.scale(X)"
   ]
  },
  {
   "cell_type": "markdown",
   "id": "e371c238",
   "metadata": {},
   "source": [
    "# First model analysis"
   ]
  },
  {
   "cell_type": "code",
   "execution_count": null,
   "id": "feb8c4be",
   "metadata": {
    "tags": []
   },
   "outputs": [],
   "source": [
    "pca = PCA()"
   ]
  },
  {
   "cell_type": "code",
   "execution_count": null,
   "id": "f6fc617e",
   "metadata": {
    "tags": []
   },
   "outputs": [],
   "source": [
    "pca.fit(Xscaled)"
   ]
  },
  {
   "cell_type": "code",
   "execution_count": null,
   "id": "910c0bff",
   "metadata": {
    "tags": []
   },
   "outputs": [],
   "source": [
    "Xpca = pca.transform(Xscaled)"
   ]
  },
  {
   "cell_type": "code",
   "execution_count": null,
   "id": "aa7cd307",
   "metadata": {
    "tags": []
   },
   "outputs": [],
   "source": [
    "pca.components_.shape"
   ]
  },
  {
   "cell_type": "markdown",
   "id": "cf430257",
   "metadata": {},
   "source": [
    "## Verify pca components"
   ]
  },
  {
   "cell_type": "code",
   "execution_count": null,
   "id": "bc4dd14b",
   "metadata": {
    "tags": []
   },
   "outputs": [],
   "source": [
    "X_proj = pd.DataFrame(Xpca, columns=[f'PC{i}' for i in range(1, pca.components_.shape[0]+1)])\n",
    "X_proj"
   ]
  },
  {
   "cell_type": "code",
   "execution_count": null,
   "id": "e0e3a169",
   "metadata": {
    "tags": []
   },
   "outputs": [],
   "source": [
    "sns.heatmap(X_proj.corr(), cmap='coolwarm')"
   ]
  },
  {
   "cell_type": "code",
   "execution_count": null,
   "id": "34acf1da",
   "metadata": {
    "tags": []
   },
   "outputs": [],
   "source": [
    "plt.figure(figsize=(13,5))\n",
    "plt.subplot(1,2,1)\n",
    "plt.title('X1 vs. X0 before PCA (initial space)'); plt.xlabel('X0'); plt.ylabel('X1')\n",
    "plt.scatter(Xscaled[:,0], Xscaled[:,1])\n",
    "\n",
    "plt.subplot(1,2,2)\n",
    "plt.title('PC1 vs PC2 (new space)'); plt.xlabel('PC 1'); plt.ylabel('PC 2')\n",
    "plt.scatter(X_proj.iloc[:,0], X_proj.iloc[:,1]);"
   ]
  },
  {
   "cell_type": "code",
   "execution_count": null,
   "id": "bb7969ca",
   "metadata": {
    "tags": []
   },
   "outputs": [],
   "source": [
    "# Computational proof\n",
    "W = pca.components_.T\n",
    "print(\"Shape of W: \", W.shape)\n",
    "print(\"Shape of X\", Xscaled.shape)"
   ]
  },
  {
   "cell_type": "code",
   "execution_count": null,
   "id": "0972376d",
   "metadata": {
    "scrolled": true,
    "tags": []
   },
   "outputs": [],
   "source": [
    "pca.explained_variance_ratio_.cumsum()[0:10]"
   ]
  },
  {
   "cell_type": "code",
   "execution_count": null,
   "id": "2be4c8f0",
   "metadata": {
    "tags": []
   },
   "outputs": [],
   "source": [
    "plt.plot(pca.explained_variance_ratio_[0:6])\n",
    "plt.xlabel('Principal Component'); plt.ylabel('% explained variance');"
   ]
  },
  {
   "cell_type": "markdown",
   "id": "e971e2de",
   "metadata": {},
   "source": [
    "We can see that with only a few PCA components we can explain 99.9% of the covariance of the data"
   ]
  },
  {
   "cell_type": "code",
   "execution_count": null,
   "id": "2f6a97ba",
   "metadata": {
    "tags": []
   },
   "outputs": [],
   "source": [
    "pca = PCA(n_components=6)\n",
    "pca.fit(Xscaled)\n",
    "Xpca = pca.transform(Xscaled)"
   ]
  },
  {
   "cell_type": "code",
   "execution_count": null,
   "id": "8863a26c",
   "metadata": {
    "tags": []
   },
   "outputs": [],
   "source": [
    "Xpca"
   ]
  },
  {
   "cell_type": "markdown",
   "id": "2703afc4",
   "metadata": {},
   "source": [
    "# Train the unsupervised ML model"
   ]
  },
  {
   "cell_type": "markdown",
   "id": "697f2110",
   "metadata": {},
   "source": [
    "## Loss function"
   ]
  },
  {
   "cell_type": "code",
   "execution_count": null,
   "id": "0ef30caf",
   "metadata": {
    "tags": []
   },
   "outputs": [],
   "source": [
    "def gmm_bic_score(estimator, X):\n",
    "    \"\"\"Callable to pass to GridSearchCV that will use the BIC score.\"\"\"\n",
    "    # Make it negative since GridSearchCV expects a score to maximize\n",
    "    return -estimator.bic(X)"
   ]
  },
  {
   "cell_type": "markdown",
   "id": "f1aba0e3",
   "metadata": {},
   "source": [
    "## Train the model with grid search to define the best params with the best score"
   ]
  },
  {
   "cell_type": "code",
   "execution_count": null,
   "id": "2a8dd218",
   "metadata": {
    "tags": []
   },
   "outputs": [],
   "source": [
    "# Instantiate model\n",
    "model = mixture.GaussianMixture()\n",
    "\n",
    "param_grid = {\n",
    "    \"n_components\": range(2, 12),\n",
    "    \"covariance_type\": [\"full\"],\n",
    "#     \"covariance_type\": [\"spherical\", \"tied\", \"diag\", \"full\"],\n",
    "}\n",
    "grid_search = GridSearchCV(\n",
    "    model, param_grid=param_grid, scoring=gmm_bic_score, verbose=2\n",
    ")\n",
    "grid_search.fit(Xpca)"
   ]
  },
  {
   "cell_type": "code",
   "execution_count": null,
   "id": "cde898ca",
   "metadata": {
    "tags": []
   },
   "outputs": [],
   "source": [
    "comp_df = pd.DataFrame(grid_search.cv_results_)[\n",
    "    [\"param_n_components\", \"param_covariance_type\", \"mean_test_score\"]\n",
    "]\n",
    "comp_df[\"mean_test_score\"] = -comp_df[\"mean_test_score\"]\n",
    "comp_df = comp_df.rename(\n",
    "    columns={\n",
    "        \"param_n_components\": \"Number of components\",\n",
    "        \"param_covariance_type\": \"Type of covariance\",\n",
    "        \"mean_test_score\": \"BIC score\",\n",
    "    }\n",
    ")\n",
    "comp_df.sort_values(by=\"BIC score\").head()"
   ]
  },
  {
   "cell_type": "markdown",
   "id": "e65df393",
   "metadata": {},
   "source": [
    "We can see that the best model is with 6 components"
   ]
  },
  {
   "cell_type": "code",
   "execution_count": null,
   "id": "7b2e2f01",
   "metadata": {
    "tags": []
   },
   "outputs": [],
   "source": [
    "sns.catplot(\n",
    "    data=comp_df,\n",
    "    kind=\"bar\",\n",
    "    x=\"Number of components\",\n",
    "    y=\"BIC score\",\n",
    "    hue=\"Type of covariance\",\n",
    ")\n",
    "plt.show()"
   ]
  },
  {
   "cell_type": "markdown",
   "id": "0d91f8f9",
   "metadata": {},
   "source": [
    "## Prepare the data for data plotting"
   ]
  },
  {
   "cell_type": "code",
   "execution_count": null,
   "id": "5198d39e",
   "metadata": {
    "tags": []
   },
   "outputs": [],
   "source": [
    "labels = grid_search.predict(Xpca)"
   ]
  },
  {
   "cell_type": "code",
   "execution_count": null,
   "id": "72a69d16",
   "metadata": {
    "tags": []
   },
   "outputs": [],
   "source": [
    "# find posterior probabilities (the probabilities of belonging to each class)\n",
    "posterior_probs = grid_search.predict_proba(Xpca)"
   ]
  },
  {
   "cell_type": "code",
   "execution_count": null,
   "id": "99959d74",
   "metadata": {
    "tags": []
   },
   "outputs": [],
   "source": [
    "# maximum posterior probability (the class is assigned based on this value)\n",
    "max_posterior_probs = np.max(posterior_probs,axis=1) "
   ]
  },
  {
   "cell_type": "code",
   "execution_count": null,
   "id": "5af1fbb7",
   "metadata": {
    "tags": []
   },
   "outputs": [],
   "source": [
    "df.shape"
   ]
  },
  {
   "cell_type": "code",
   "execution_count": null,
   "id": "1225fd68",
   "metadata": {
    "tags": []
   },
   "outputs": [],
   "source": [
    "# put the labels and maximum posterior probabilities back in original dataframe\n",
    "df.insert(2,'label',labels,True)\n",
    "df.insert(3,'max posterior prob',max_posterior_probs,True) \n",
    "df"
   ]
  },
  {
   "cell_type": "code",
   "execution_count": null,
   "id": "bbaa920f",
   "metadata": {
    "tags": []
   },
   "outputs": [],
   "source": [
    "# group profiles according to label\n",
    "grouped_unsorted = df.groupby('label')"
   ]
  },
  {
   "cell_type": "code",
   "execution_count": null,
   "id": "538b82f3",
   "metadata": {
    "tags": []
   },
   "outputs": [],
   "source": [
    "# calculate mean of all profiles in each class\n",
    "df_means = grouped_unsorted.mean()"
   ]
  },
  {
   "cell_type": "code",
   "execution_count": null,
   "id": "89164ba9",
   "metadata": {
    "tags": []
   },
   "outputs": [],
   "source": [
    "n_comp = grid_search.best_estimator_.n_components"
   ]
  },
  {
   "cell_type": "code",
   "execution_count": null,
   "id": "7e7a3076",
   "metadata": {
    "tags": []
   },
   "outputs": [],
   "source": [
    "# extrat sea surface temperatures (SSTs)\n",
    "T15_means = df_means['15.0'].values\n",
    "\n",
    "# sort mean temperatuer at 15 dbar from coldest to warmest\n",
    "old2new = np.argsort(T15_means)\n",
    "\n",
    "# create dictionary object for sorting\n",
    "di = dict(zip(old2new,range(0,n_comp)))\n",
    "\n",
    "# add new column to dataframe - sorted label\n",
    "df.insert(3,'label_sorted',df['label'].map(di))"
   ]
  },
  {
   "cell_type": "code",
   "execution_count": null,
   "id": "8727ede5",
   "metadata": {
    "tags": []
   },
   "outputs": [],
   "source": [
    "# group profiles according to label\n",
    "grouped = df.groupby('label_sorted')\n",
    "\n",
    "# calculate mean of all profiles in each class\n",
    "dfg_means = grouped.mean()\n",
    "\n",
    "# calculate stdevs of all profiles in each class\n",
    "dfg_stds = grouped.std()\n",
    "\n",
    "# number or profiles in each class\n",
    "nprofs = grouped['x'].count().values"
   ]
  },
  {
   "cell_type": "code",
   "execution_count": null,
   "id": "b857d54d",
   "metadata": {},
   "outputs": [],
   "source": [
    "print(dfg_means['15.0'])"
   ]
  },
  {
   "cell_type": "code",
   "execution_count": null,
   "id": "afa7e703",
   "metadata": {},
   "outputs": [],
   "source": [
    "p = np.asarray([float(i) for i in pres])"
   ]
  },
  {
   "cell_type": "code",
   "execution_count": null,
   "id": "4020274c",
   "metadata": {},
   "outputs": [],
   "source": [
    "# initialize the figure\n",
    "plt.figure(figsize=(35, 42))\n",
    "plt.style.use('seaborn-darkgrid')\n",
    "\n",
    "# create a color palette\n",
    "palette = cm.coolwarm(np.linspace(0,1,n_comp))\n",
    "\n",
    "# iterate over groups\n",
    "num = 0\n",
    "for nrow in range(0,n_comp):\n",
    "    num += 1\n",
    "    \n",
    "    # extract means\n",
    "    mean_lon = dfg_means.iloc[nrow,0]\n",
    "    mean_lat = dfg_means.iloc[nrow,1]\n",
    "    mean_maxpp = dfg_means.iloc[nrow,3]\n",
    "    mean_T = dfg_means.iloc[nrow,4:].values\n",
    "    \n",
    "    # extract stdevs\n",
    "    std_lon = dfg_stds.iloc[nrow,0]\n",
    "    std_lat = dfg_stds.iloc[nrow,1]\n",
    "    std_maxpp = dfg_stds.iloc[nrow,3]\n",
    "    std_T = dfg_stds.iloc[nrow,4:].values\n",
    "    \n",
    "    # select subplot\n",
    "    plt.subplot(int(np.ceil(n_comp/5)),5,num)\n",
    "    plt.plot(mean_T, p, marker='', linestyle='solid', color=palette[nrow], linewidth=6.0, alpha=0.9)\n",
    "    plt.plot(mean_T+std_T, p, marker='', linestyle='dashed', color=palette[nrow], linewidth=6.0, alpha=0.9)\n",
    "    plt.plot(mean_T-std_T, p, marker='', linestyle='dashed', color=palette[nrow], linewidth=6.0, alpha=0.9)\n",
    "    \n",
    "    # custom grid and axes\n",
    "    plt.ylim([0,1000])\n",
    "    ax = plt.gca()\n",
    "    ax.invert_yaxis() \n",
    "    plt.xlim([-2, 20])\n",
    "    ax.grid(True)\n",
    "    \n",
    "    fs = 16 # font size\n",
    "    plt.xlabel('Temperature (°C)', fontsize=fs)\n",
    "    plt.ylabel('Pressure (dbar)', fontsize=fs)\n",
    "    plt.title('Class = ' + str(num), fontsize=fs)\n",
    "    mpl.rc('xtick', labelsize=fs)     \n",
    "    mpl.rc('ytick', labelsize=fs)\n",
    "    \n",
    "    # text box\n",
    "    textstr = '\\n'.join((\n",
    "        r'N profs. = %i' % (nprofs[nrow], ),\n",
    "        r'Mean lon = %i' % (mean_lon, ),\n",
    "        r'Mean lat = %i' % (mean_lat, ),\n",
    "        r'Post. = %.2f' % (mean_maxpp, )))\n",
    "    props = dict(boxstyle='round', facecolor='wheat', alpha=0.8)\n",
    "    # place a text box in upper left in axes coords\n",
    "    ax.text(0.45, 0.25, textstr, transform=ax.transAxes, fontsize=fs,\n",
    "            verticalalignment='top', bbox=props)\n",
    "    \n",
    "plt.show()\n",
    "    "
   ]
  },
  {
   "cell_type": "markdown",
   "id": "5340628b",
   "metadata": {},
   "source": [
    "# Create the polygons for data QC"
   ]
  },
  {
   "cell_type": "markdown",
   "id": "f26f4107",
   "metadata": {},
   "source": [
    "## Convex hull"
   ]
  },
  {
   "cell_type": "code",
   "execution_count": null,
   "id": "c5135be7",
   "metadata": {},
   "outputs": [],
   "source": [
    "points = []\n",
    "for i, value in enumerate(mean_T):\n",
    "    points.append([value-std_T[i], float(pres[i])])\n",
    "    points.append([value+std_T[i], float(pres[i])])\n",
    "points = np.array(points)"
   ]
  },
  {
   "cell_type": "code",
   "execution_count": null,
   "id": "ccd11b9e",
   "metadata": {},
   "outputs": [],
   "source": [
    "hull = ConvexHull(points)"
   ]
  },
  {
   "cell_type": "code",
   "execution_count": null,
   "id": "b8263a89",
   "metadata": {},
   "outputs": [],
   "source": [
    "import matplotlib.pyplot as plt\n",
    "plt.plot(points[:,0], points[:,1], 'o')\n",
    "for simplex in hull.simplices:\n",
    "    plt.plot(points[simplex, 0], points[simplex, 1], 'k-')"
   ]
  },
  {
   "cell_type": "markdown",
   "id": "23693070",
   "metadata": {},
   "source": [
    "We can see that convex hull is not the best way to define the polygon"
   ]
  },
  {
   "cell_type": "markdown",
   "id": "7f349ead",
   "metadata": {},
   "source": [
    "## Concave hull"
   ]
  },
  {
   "cell_type": "code",
   "execution_count": null,
   "id": "79953980",
   "metadata": {},
   "outputs": [],
   "source": [
    "def alpha_shape(points, alpha):\n",
    "    \"\"\"\n",
    "    Compute the alpha shape (concave hull) of a set of points.\n",
    "\n",
    "    @param points: Iterable container of points.\n",
    "    @param alpha: alpha value to influence the gooeyness of the border. Smaller\n",
    "                numbers don't fall inward as much as larger numbers. Too large,\n",
    "                and you lose everything!\n",
    "    \"\"\"\n",
    "    if len(points) < 4:\n",
    "        # When you have a triangle, there is no sense in computing an alpha\n",
    "        # shape.\n",
    "        return geometry.MultiPoint(list(points)).convex_hull\n",
    "\n",
    "    def add_edge(edges, edge_points, coords, i, j):\n",
    "        \"\"\"Add a line between the i-th and j-th points, if not in the list already\"\"\"\n",
    "        if (i, j) in edges or (j, i) in edges:\n",
    "            # already added\n",
    "            return\n",
    "        edges.add( (i, j) )\n",
    "        edge_points.append(coords[ [i, j] ])\n",
    "\n",
    "    coords = np.array([point.coords[0] for point in points])\n",
    "\n",
    "    tri = Delaunay(coords)\n",
    "    edges = set()\n",
    "    edge_points = []\n",
    "    # loop over triangles:\n",
    "    # ia, ib, ic = indices of corner points of the triangle\n",
    "    for ia, ib, ic in tri.simplices:\n",
    "        pa = coords[ia]\n",
    "        pb = coords[ib]\n",
    "        pc = coords[ic]\n",
    "\n",
    "        # Lengths of sides of triangle\n",
    "        a = math.sqrt((pa[0]-pb[0])**2 + (pa[1]-pb[1])**2)\n",
    "        b = math.sqrt((pb[0]-pc[0])**2 + (pb[1]-pc[1])**2)\n",
    "        c = math.sqrt((pc[0]-pa[0])**2 + (pc[1]-pa[1])**2)\n",
    "\n",
    "        # Semiperimeter of triangle\n",
    "        s = (a + b + c)/2.0\n",
    "\n",
    "        # Area of triangle by Heron's formula\n",
    "        area = math.sqrt(s*(s-a)*(s-b)*(s-c))\n",
    "        if area == 0:\n",
    "            area = 1.000000000154332e-09\n",
    "        circum_r = a*b*c/(4.0*area)\n",
    "\n",
    "        # Here's the radius filter.\n",
    "        #print circum_r\n",
    "        if circum_r < 1.0/alpha:\n",
    "            add_edge(edges, edge_points, coords, ia, ib)\n",
    "            add_edge(edges, edge_points, coords, ib, ic)\n",
    "            add_edge(edges, edge_points, coords, ic, ia)\n",
    "\n",
    "    m = geometry.MultiLineString(edge_points)\n",
    "    triangles = list(polygonize(m))\n",
    "\n",
    "    return cascaded_union(triangles), edge_points"
   ]
  },
  {
   "cell_type": "code",
   "execution_count": null,
   "id": "b35c8df3",
   "metadata": {},
   "outputs": [],
   "source": [
    "\n",
    "points = []\n",
    "for i, value in enumerate(mean_T):\n",
    "    points.append((value-std_T[i], float(pres[i])))\n",
    "    points.append((value+std_T[i], float(pres[i])))\n",
    "points_point = [geometry.Point(xy) for xy in points]"
   ]
  },
  {
   "cell_type": "code",
   "execution_count": null,
   "id": "2741bb1c",
   "metadata": {},
   "outputs": [],
   "source": [
    "concave_hull, edge_points = alpha_shape(points_point, alpha=0.1)"
   ]
  },
  {
   "cell_type": "code",
   "execution_count": null,
   "id": "45c19ab7",
   "metadata": {},
   "outputs": [],
   "source": [
    "def plot_polygon(polygon):\n",
    "    fig = plt.figure(figsize=(10,10))\n",
    "    ax = fig.add_subplot(111)\n",
    "    margin = .3\n",
    "\n",
    "    x_min, y_min, x_max, y_max = polygon.bounds\n",
    "\n",
    "    ax.set_xlim([x_min-margin, x_max+margin])\n",
    "    ax.set_ylim([y_min-margin, y_max+margin])\n",
    "    patch = PolygonPatch(polygon, fc='#999999', ec='#000000', fill=True, zorder=-1)\n",
    "    ax.add_patch(patch)\n",
    "    return fig"
   ]
  },
  {
   "cell_type": "code",
   "execution_count": null,
   "id": "8d21c0f7",
   "metadata": {},
   "outputs": [],
   "source": [
    "points = []\n",
    "x = []\n",
    "y = []\n",
    "for i, value in enumerate(mean_T):\n",
    "    x.append(value-std_T[i])\n",
    "    x.append(value+std_T[i])\n",
    "    y.append(float(pres[i]))\n",
    "    y.append(float(pres[i]))"
   ]
  },
  {
   "cell_type": "code",
   "execution_count": null,
   "id": "b2c11e92",
   "metadata": {},
   "outputs": [],
   "source": [
    "plt.plot(*concave_hull.exterior.xy)\n",
    "plt.plot(x,y,'o', color='#f16824')"
   ]
  },
  {
   "cell_type": "code",
   "execution_count": null,
   "id": "3b4b50ac-d110-486e-b27c-f7cac5d7c122",
   "metadata": {
    "tags": []
   },
   "outputs": [],
   "source": [
    "# Create IOOS Flags\n",
    "\n",
    "from ioos_qc import qartod\n",
    "\n",
    "argo_noise = pd.read_csv('argo_noise.csv')\n",
    "\n",
    "spike_flags = pd.DataFrame(index=argo_noise.index,columns=argo_noise.columns)\n",
    "range_flags = pd.DataFrame(index=argo_noise.index,columns=argo_noise.columns)\n",
    "\n",
    "for index in argo_noise.index:\n",
    "   flags = qartod.spike_test(inp=argo_noise.iloc[index],suspect_threshold=3.0,fail_threshold=8.0)\n",
    "   spike_flags.iloc[index] = flags\n",
    "   flags = qartod.gross_range_test(inp=argo_noise.iloc[index],fail_span=[0,30])\n",
    "   range_flags.iloc[index] = flags "
   ]
  },
  {
   "cell_type": "code",
   "execution_count": null,
   "id": "3b4b6ae4",
   "metadata": {
    "tags": []
   },
   "outputs": [],
   "source": [
    "#spike_flags = pd.read_csv('spike_flags.csv')\n",
    "\n",
    "spike_suspect_per = spike_flags.apply(lambda x:x[x==3].count()/x.count()*100,axis=1)\n",
    "spike_fail_per = spike_flags.apply(lambda x:x[x==4].count()/x.count()*100,axis=1)\n",
    "\n",
    "fig, (ax1, ax2) = plt.subplots(nrows=1, ncols=2, figsize=(9, 4))\n",
    "\n",
    "bplot1 = ax1.boxplot([spike_suspect_per],\n",
    "                     vert=True,  # vertical box alignment\n",
    "                     patch_artist=True,  # fill with color\n",
    "                     labels=['Suspect Flags'])  # will be used to label x-ticks\n",
    "\n",
    "bplot2 = ax2.boxplot([spike_fail_per],\n",
    "                     notch=True,  # notch shape\n",
    "                     vert=True,  # vertical box alignment\n",
    "                     patch_artist=True,  # fill with color\n",
    "                     labels=['Fail Flags'])  # will be used to label x-ticks \n",
    "\n",
    "ax1.set_title('Percentage of Suspect Flags for Spikes')\n",
    "ax2.set_title('Percentage of Fail Flags for Spikes')\n",
    "\n",
    "# adding horizontal grid lines\n",
    "for ax in [ax1, ax2]:\n",
    "    ax.yaxis.grid(True)\n",
    "    ax.set_ylabel('Percent of Total Data Points')\n",
    "\n",
    "colors = ['#FFFF00','#FFA500']\n",
    "\n",
    "for bplot in (bplot1, bplot2):\n",
    "    for patch, color in zip(bplot['boxes'], colors):\n",
    "        patch.set_facecolor(color)\n",
    "\n",
    "\n",
    "plt.show()"
   ]
  },
  {
   "cell_type": "code",
   "execution_count": 6,
   "id": "8f6ea818-bd03-4d95-a59f-5575ad0e5779",
   "metadata": {
    "tags": []
   },
   "outputs": [
    {
     "data": {
      "image/png": "[encoded data removed]",
      "text/plain": [
       "<Figure size 900x400 with 2 Axes>"
      ]
     },
     "metadata": {},
     "output_type": "display_data"
    }
   ],
   "source": [
    "#spike_flags = pd.read_csv('spike_flags.csv')\n",
    "\n",
    "spike_suspect_count = spike_flags.apply(lambda x:x[x==3].count(),axis=1)\n",
    "spike_fail_count = spike_flags.apply(lambda x:x[x==4].count(),axis=1)\n",
    "\n",
    "fig, (ax1, ax2) = plt.subplots(nrows=1, ncols=2, figsize=(9, 4))\n",
    "\n",
    "bplot1 = ax1.boxplot([spike_suspect_count],\n",
    "                     vert=True,  # vertical box alignment\n",
    "                     patch_artist=True,  # fill with color\n",
    "                     labels=['Suspect Flags'])  # will be used to label x-ticks\n",
    "\n",
    "bplot2 = ax2.boxplot([spike_fail_count],\n",
    "                     notch=True,  # notch shape\n",
    "                     vert=True,  # vertical box alignment\n",
    "                     patch_artist=True,  # fill with color\n",
    "                     labels=['Fail Flags'])  # will be used to label x-ticks \n",
    "\n",
    "ax1.set_title('Number of Suspect Flags for Spikes')\n",
    "ax2.set_title('Number  of Fail Flags for Spikes')\n",
    "\n",
    "# adding horizontal grid lines\n",
    "for ax in [ax1, ax2]:\n",
    "    ax.yaxis.grid(True)\n",
    "    ax.set_ylabel('Number of Total Data Points')\n",
    "\n",
    "colors = ['#FFFF00','#FFA500']\n",
    "\n",
    "for bplot in (bplot1, bplot2):\n",
    "    for patch, color in zip(bplot['boxes'], colors):\n",
    "        patch.set_facecolor(color)\n",
    "\n",
    "\n",
    "plt.show()"
   ]
  },
  {
   "cell_type": "code",
   "execution_count": null,
   "id": "41e3d05a-d12d-413c-8304-3f4ef9667e54",
   "metadata": {},
   "outputs": [],
   "source": []
  }
 ],
 "metadata": {
  "kernelspec": {
   "display_name": "Python 3 (ipykernel)",
   "language": "python",
   "name": "python3"
  },
  "language_info": {
   "codemirror_mode": {
    "name": "ipython",
    "version": 3
   },
   "file_extension": ".py",
   "mimetype": "text/x-python",
   "name": "python",
   "nbconvert_exporter": "python",
   "pygments_lexer": "ipython3",
   "version": "3.9.16"
  },
  "toc": {
   "base_numbering": 1,
   "nav_menu": {},
   "number_sections": true,
   "sideBar": true,
   "skip_h1_title": false,
   "title_cell": "Table of Contents",
   "title_sidebar": "Contents",
   "toc_cell": false,
   "toc_position": {},
   "toc_section_display": true,
   "toc_window_display": false
  }
 },
 "nbformat": 4,
 "nbformat_minor": 5
}
